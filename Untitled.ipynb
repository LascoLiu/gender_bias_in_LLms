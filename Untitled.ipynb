{
 "cells": [
  {
   "cell_type": "markdown",
   "id": "273d49b9",
   "metadata": {},
   "source": [
    "**Visual Analyses**\n",
    "1. analysis.pdf: Overview of the four regard dimensions.  \n",
    "\n",
    "**Stereotype Group Analyses (Bar Charts)**  \n",
    "2-9: Analysis focused on specific professions.  \n",
    "2-3. bias_evaluation_nurse_doctor: Two variants (negative and regard).  \n",
    "4. bias_evaluation_nurse_engineer_doctor_pilates_regard: Cross-field analysis.  \n",
    "5-6. bias_evaluation_nurse_engineer: Two variants (negative and regard).  \n",
    "7-8. bias_evaluation_pilates_engineer: Two variants (negative and regard).  \n",
    "9. bias_evaluation_pretrain_finetune7: Comparison between pre-trained and fine-tuned models.  \n",
    "    * Files ending with \"negative\" are from earlier experiments.  \n",
    "    * Files ending with \"regard\" are from subsequent experiments.  \n",
    "\n",
    "**Counter Group Analyses (Bar Charts)**  \n",
    "10-12: Specific professions' analysis.  \n",
    "10. comparison_evaluation_nurse_doctor12  \n",
    "11. comparison_evaluation_nurse_engineer10  \n",
    "12. comparison_evaluation_pilates_engineer13  \n",
    "\n",
    "**Prompt & Model Tuning**\n",
    "13. extract_examples.pdf: Displays transformation of negative text values to positive.  \n",
    "14. gpt3_prompt_fine_tune_newprompt2.pdf: Model fine-tuning details.  \n",
    "15. prompt_generate_all_for_finetune1.pdf: Full dataset prompt engineering pre-fine-tuning.  \n",
    "16. prompt_generate_specific_career_for_analyse3.pdf: Specific profession prompt engineering pre-fine-tuning.  \n",
    "\n",
    "**Statistical & Coordinated Analyses**\n",
    "17. parallel_coordinates14.pdf: Analysis of both stereotype and counter-stereotype groups.  \n",
    "18. significance_analysis_comparison11.pdf: 'Negative' statistical analysis for the counter-stereotype group.  \n",
    "19. significance_analysis_negative8.pdf: 'Negative' analysis for stereotype group.  \n",
    "20. significant_parallel_coordinates.pdf: Statistical parallel coordinates analysis for stereotype group.  \n",
    "21. statistical_significance.pdf: Statistical analysis across stereotype, counter-stereotype, and varying professions.  \n"
   ]
  }
 ],
 "metadata": {
  "kernelspec": {
   "display_name": "Python 3 (ipykernel)",
   "language": "python",
   "name": "python3"
  },
  "language_info": {
   "codemirror_mode": {
    "name": "ipython",
    "version": 3
   },
   "file_extension": ".py",
   "mimetype": "text/x-python",
   "name": "python",
   "nbconvert_exporter": "python",
   "pygments_lexer": "ipython3",
   "version": "3.8.13"
  }
 },
 "nbformat": 4,
 "nbformat_minor": 5
}
