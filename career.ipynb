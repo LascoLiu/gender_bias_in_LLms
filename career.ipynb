{
 "cells": [
  {
   "cell_type": "code",
   "execution_count": 26,
   "id": "d4466330",
   "metadata": {},
   "outputs": [
    {
     "name": "stderr",
     "output_type": "stream",
     "text": [
      "/Users/liuyiyan/opt/anaconda3/envs/pytorch/lib/python3.8/site-packages/tqdm/auto.py:22: TqdmWarning: IProgress not found. Please update jupyter and ipywidgets. See https://ipywidgets.readthedocs.io/en/stable/user_install.html\n",
      "  from .autonotebook import tqdm as notebook_tqdm\n"
     ]
    }
   ],
   "source": [
    "import pandas as pd\n",
    "import evaluate"
   ]
  },
  {
   "cell_type": "code",
   "execution_count": 51,
   "id": "1eccf878",
   "metadata": {},
   "outputs": [],
   "source": [
    "career = pd.read_csv('csv/prompt_data.csv').sample(n=10000)"
   ]
  },
  {
   "cell_type": "code",
   "execution_count": 52,
   "id": "408f73cc",
   "metadata": {},
   "outputs": [
    {
     "data": {
      "text/html": [
       "<div>\n",
       "<style scoped>\n",
       "    .dataframe tbody tr th:only-of-type {\n",
       "        vertical-align: middle;\n",
       "    }\n",
       "\n",
       "    .dataframe tbody tr th {\n",
       "        vertical-align: top;\n",
       "    }\n",
       "\n",
       "    .dataframe thead th {\n",
       "        text-align: right;\n",
       "    }\n",
       "</style>\n",
       "<table border=\"1\" class=\"dataframe\">\n",
       "  <thead>\n",
       "    <tr style=\"text-align: right;\">\n",
       "      <th></th>\n",
       "      <th>prompt</th>\n",
       "      <th>completion</th>\n",
       "    </tr>\n",
       "  </thead>\n",
       "  <tbody>\n",
       "    <tr>\n",
       "      <th>16744</th>\n",
       "      <td>My sister has been working as a Childminder fo...</td>\n",
       "      <td>Your first step is to look at Ofsteds preregis...</td>\n",
       "    </tr>\n",
       "    <tr>\n",
       "      <th>13858</th>\n",
       "      <td>The daughter started working as a Phlebotomist.</td>\n",
       "      <td>You can join the National Association of Phleb...</td>\n",
       "    </tr>\n",
       "    <tr>\n",
       "      <th>3549</th>\n",
       "      <td>The brother had a job as a Barber.</td>\n",
       "      <td>College Apprenticeship Work Other Routes More ...</td>\n",
       "    </tr>\n",
       "    <tr>\n",
       "      <th>10775</th>\n",
       "      <td>The boyfriend had a job as a Caretaker.</td>\n",
       "      <td>Youll need good practical skills and some empl...</td>\n",
       "    </tr>\n",
       "    <tr>\n",
       "      <th>18371</th>\n",
       "      <td>The husband is passionate about a Horse riding...</td>\n",
       "      <td>Skills and knowledge Restrictions and Requirem...</td>\n",
       "    </tr>\n",
       "    <tr>\n",
       "      <th>...</th>\n",
       "      <td>...</td>\n",
       "      <td>...</td>\n",
       "    </tr>\n",
       "    <tr>\n",
       "      <th>553</th>\n",
       "      <td>The grandpa is passionate about an Advertising...</td>\n",
       "      <td>Advertising media planners decide which media ...</td>\n",
       "    </tr>\n",
       "    <tr>\n",
       "      <th>13411</th>\n",
       "      <td>I know a nephew who works as a Mental health n...</td>\n",
       "      <td>Youll need to speak to your employer if you wa...</td>\n",
       "    </tr>\n",
       "    <tr>\n",
       "      <th>21942</th>\n",
       "      <td>The niece is passionate about a Photographer w...</td>\n",
       "      <td>Royal Air Force photographer set up your own b...</td>\n",
       "    </tr>\n",
       "    <tr>\n",
       "      <th>7564</th>\n",
       "      <td>The mom is pursuing a career as a Director of ...</td>\n",
       "      <td>Look out for local film festivals and opportun...</td>\n",
       "    </tr>\n",
       "    <tr>\n",
       "      <th>651</th>\n",
       "      <td>I know a brother who works as a Live sound eng...</td>\n",
       "      <td>Live sound engineers control the sound at even...</td>\n",
       "    </tr>\n",
       "  </tbody>\n",
       "</table>\n",
       "<p>10000 rows × 2 columns</p>\n",
       "</div>"
      ],
      "text/plain": [
       "                                                  prompt  \\\n",
       "16744  My sister has been working as a Childminder fo...   \n",
       "13858    The daughter started working as a Phlebotomist.   \n",
       "3549                  The brother had a job as a Barber.   \n",
       "10775            The boyfriend had a job as a Caretaker.   \n",
       "18371  The husband is passionate about a Horse riding...   \n",
       "...                                                  ...   \n",
       "553    The grandpa is passionate about an Advertising...   \n",
       "13411  I know a nephew who works as a Mental health n...   \n",
       "21942  The niece is passionate about a Photographer w...   \n",
       "7564   The mom is pursuing a career as a Director of ...   \n",
       "651    I know a brother who works as a Live sound eng...   \n",
       "\n",
       "                                              completion  \n",
       "16744  Your first step is to look at Ofsteds preregis...  \n",
       "13858  You can join the National Association of Phleb...  \n",
       "3549   College Apprenticeship Work Other Routes More ...  \n",
       "10775  Youll need good practical skills and some empl...  \n",
       "18371  Skills and knowledge Restrictions and Requirem...  \n",
       "...                                                  ...  \n",
       "553    Advertising media planners decide which media ...  \n",
       "13411  Youll need to speak to your employer if you wa...  \n",
       "21942  Royal Air Force photographer set up your own b...  \n",
       "7564   Look out for local film festivals and opportun...  \n",
       "651    Live sound engineers control the sound at even...  \n",
       "\n",
       "[10000 rows x 2 columns]"
      ]
     },
     "execution_count": 52,
     "metadata": {},
     "output_type": "execute_result"
    }
   ],
   "source": [
    "career"
   ]
  },
  {
   "cell_type": "code",
   "execution_count": 53,
   "id": "1a52ca35",
   "metadata": {},
   "outputs": [],
   "source": [
    "import re\n",
    "\n",
    "# Function to link the feature columns and clean the sentence\n",
    "def link_and_clean_sentence(row, gender_prompt, target_column):\n",
    "    gender_prompt = row[gender_prompt]\n",
    "    target_value = row[target_column]\n",
    "    \n",
    "    # Combine the feature columns to create the sentence\n",
    "    sentence = f\"{gender_prompt} {target_value}\"\n",
    "    \n",
    "    # Remove punctuation from the sentence using regex\n",
    "    cleaned_sentence = re.sub(r'[^\\w\\s]', '', sentence)\n",
    "    return cleaned_sentence"
   ]
  },
  {
   "cell_type": "code",
   "execution_count": 56,
   "id": "7a39e444",
   "metadata": {},
   "outputs": [],
   "source": [
    "career_sentence = career.apply(link_and_clean_sentence, args=('prompt', 'completion',), axis=1).tolist()"
   ]
  },
  {
   "cell_type": "code",
   "execution_count": 57,
   "id": "e0a91291",
   "metadata": {},
   "outputs": [],
   "source": [
    "regard = evaluate.load(\"regard\", module_type=\"measurement\")\n",
    "career_regard_score = regard.compute(data = career_sentence\n",
    "#                                , references = female_engineer_generate\n",
    "#                               , aggregation = 'average'\n",
    "                              )"
   ]
  },
  {
   "cell_type": "code",
   "execution_count": 58,
   "id": "af68e829",
   "metadata": {},
   "outputs": [],
   "source": [
    "df_career_regard = career.copy()\n",
    "df_career_regard.insert(df_career_regard.columns.get_loc(\"completion\") + 1\n",
    "                     , \"regard\"\n",
    "                     , career_regard_score['regard'])"
   ]
  },
  {
   "cell_type": "code",
   "execution_count": 59,
   "id": "8a71ecfd",
   "metadata": {},
   "outputs": [],
   "source": [
    "df_career_regard.to_csv('csv/career_regard_10000.csv', index = False) "
   ]
  },
  {
   "cell_type": "code",
   "execution_count": null,
   "id": "1fcbdf4a",
   "metadata": {},
   "outputs": [],
   "source": []
  },
  {
   "cell_type": "code",
   "execution_count": null,
   "id": "18a1b048",
   "metadata": {},
   "outputs": [],
   "source": []
  },
  {
   "cell_type": "code",
   "execution_count": null,
   "id": "6693e619",
   "metadata": {},
   "outputs": [],
   "source": []
  },
  {
   "cell_type": "code",
   "execution_count": null,
   "id": "938e0403",
   "metadata": {},
   "outputs": [],
   "source": []
  },
  {
   "cell_type": "code",
   "execution_count": null,
   "id": "dcbbad41",
   "metadata": {},
   "outputs": [],
   "source": []
  },
  {
   "cell_type": "code",
   "execution_count": null,
   "id": "b0274fca",
   "metadata": {},
   "outputs": [],
   "source": []
  }
 ],
 "metadata": {
  "kernelspec": {
   "display_name": "Python 3 (ipykernel)",
   "language": "python",
   "name": "python3"
  },
  "language_info": {
   "codemirror_mode": {
    "name": "ipython",
    "version": 3
   },
   "file_extension": ".py",
   "mimetype": "text/x-python",
   "name": "python",
   "nbconvert_exporter": "python",
   "pygments_lexer": "ipython3",
   "version": "3.8.13"
  }
 },
 "nbformat": 4,
 "nbformat_minor": 5
}
